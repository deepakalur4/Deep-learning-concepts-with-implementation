{
  "nbformat": 4,
  "nbformat_minor": 0,
  "metadata": {
    "colab": {
      "provenance": []
    },
    "kernelspec": {
      "name": "python3",
      "display_name": "Python 3"
    },
    "language_info": {
      "name": "python"
    }
  },
  "cells": [
    {
      "cell_type": "code",
      "execution_count": 20,
      "metadata": {
        "id": "gxOtjPwrb9q-"
      },
      "outputs": [],
      "source": [
        "import tensorflow as tf\n",
        "from tensorflow import keras\n",
        "import cv2\n",
        "import PIL\n",
        "import numpy as np\n",
        "import tensorflow_hub as hub"
      ]
    },
    {
      "cell_type": "code",
      "source": [
        "model = tf.keras.Sequential([\n",
        "    hub.KerasLayer(\"https://www.kaggle.com/models/google/mobilenet-v2/TensorFlow2/035-128-classification/2\",input_shape=(128,128,3))\n",
        "])"
      ],
      "metadata": {
        "id": "vIFUup_Hcizd"
      },
      "execution_count": 26,
      "outputs": []
    },
    {
      "cell_type": "code",
      "source": [
        "img=np.array(PIL.Image.open(\"Gold_fish.jpg\").resize((128,128))).reshape(1,128,128,3)"
      ],
      "metadata": {
        "id": "U6DvcWGPcvwL"
      },
      "execution_count": 27,
      "outputs": []
    },
    {
      "cell_type": "code",
      "source": [
        "model.predict(img)"
      ],
      "metadata": {
        "colab": {
          "base_uri": "https://localhost:8080/"
        },
        "id": "8RRIOto4dfF4",
        "outputId": "94b0acea-c2ba-4119-be62-e4f3c333311e"
      },
      "execution_count": 28,
      "outputs": [
        {
          "output_type": "stream",
          "name": "stdout",
          "text": [
            "1/1 [==============================] - 1s 639ms/step\n"
          ]
        },
        {
          "output_type": "execute_result",
          "data": {
            "text/plain": [
              "array([[-0.09017217, -1.3932225 ,  3.9691763 , ..., -1.9367073 ,\n",
              "         0.4593678 , -0.6934718 ]], dtype=float32)"
            ]
          },
          "metadata": {},
          "execution_count": 28
        }
      ]
    },
    {
      "cell_type": "code",
      "source": [
        "model.summary()"
      ],
      "metadata": {
        "colab": {
          "base_uri": "https://localhost:8080/"
        },
        "id": "c36lmoW4eLyT",
        "outputId": "2979347c-0bec-4363-fee0-7fab9ada2c51"
      },
      "execution_count": 29,
      "outputs": [
        {
          "output_type": "stream",
          "name": "stdout",
          "text": [
            "Model: \"sequential_3\"\n",
            "_________________________________________________________________\n",
            " Layer (type)                Output Shape              Param #   \n",
            "=================================================================\n",
            " keras_layer_2 (KerasLayer)  (None, 1001)              1692489   \n",
            "                                                                 \n",
            "=================================================================\n",
            "Total params: 1692489 (6.46 MB)\n",
            "Trainable params: 0 (0.00 Byte)\n",
            "Non-trainable params: 1692489 (6.46 MB)\n",
            "_________________________________________________________________\n"
          ]
        }
      ]
    },
    {
      "cell_type": "code",
      "source": [
        "np.argmax(model.predict(img))"
      ],
      "metadata": {
        "colab": {
          "base_uri": "https://localhost:8080/"
        },
        "id": "9pK_c-MAexyR",
        "outputId": "2e95433c-5b0d-4de7-b5ae-581b2f124bfa"
      },
      "execution_count": 30,
      "outputs": [
        {
          "output_type": "stream",
          "name": "stdout",
          "text": [
            "1/1 [==============================] - 0s 30ms/step\n"
          ]
        },
        {
          "output_type": "execute_result",
          "data": {
            "text/plain": [
              "905"
            ]
          },
          "metadata": {},
          "execution_count": 30
        }
      ]
    },
    {
      "cell_type": "code",
      "source": [
        "model = keras.models.Sequential([\n",
        "    hub.KerasLayer(\"https://www.kaggle.com/models/google/mobilenet-v2/TensorFlow2/035-128-classification/2\",input_shape=(128,128,3),trainable=False),\n",
        "    keras.layers.Dense(5,activation=\"sigmoid\")\n",
        "])\n",
        "model.compile(optimizer=\"adam\",loss=keras.losses.SparseCategoricalCrossentropy(),metrics=[\"accuracy\"])"
      ],
      "metadata": {
        "id": "WobKO3tUe1QC"
      },
      "execution_count": 31,
      "outputs": []
    },
    {
      "cell_type": "code",
      "source": [],
      "metadata": {
        "id": "xO7mPRTJfJaf"
      },
      "execution_count": null,
      "outputs": []
    }
  ]
}